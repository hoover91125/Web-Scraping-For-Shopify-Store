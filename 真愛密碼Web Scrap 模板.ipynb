{
 "cells": [
  {
   "cell_type": "code",
   "execution_count": 13,
   "metadata": {},
   "outputs": [],
   "source": [
    "import requests\n",
    "from bs4 import BeautifulSoup\n",
    "import os\n",
    "import urllib\n",
    "import time\n",
    "import datetime\n",
    "import json\n",
    "import csv\n",
    "from tqdm.notebook import tqdm\n",
    "import pandas as pd"
   ]
  },
  {
   "cell_type": "code",
   "execution_count": 14,
   "metadata": {},
   "outputs": [],
   "source": [
    "# 填入供應商\n",
    "# 範例: 真愛密碼 -> JCode\n",
    "vendor = 'JCode'"
   ]
  },
  {
   "cell_type": "code",
   "execution_count": 15,
   "metadata": {},
   "outputs": [],
   "source": [
    "# 填入\"商品系列\"網址第一頁\n",
    "URL = \"https://www.jcode.com.tw/categories/baishatun?page=1&sort_by=&order_by=&limit=24\""
   ]
  },
  {
   "cell_type": "code",
   "execution_count": 16,
   "metadata": {},
   "outputs": [],
   "source": [
    "# 填入“商品系列”縮寫以便命名\n",
    "#範例: 2024白沙屯媽祖 -> BST2024\n",
    "type = 'BST2024'"
   ]
  },
  {
   "cell_type": "code",
   "execution_count": 17,
   "metadata": {},
   "outputs": [],
   "source": [
    "# 填入輸出檔名(預設為廠商名+商品系列)\n",
    "filename = vendor + type + '.csv'"
   ]
  },
  {
   "cell_type": "code",
   "execution_count": 18,
   "metadata": {},
   "outputs": [],
   "source": [
    "# 以下為csv表格中必填資料(不常改動)\n",
    "\n",
    "# 自訂\"Product type\"\n",
    "sku = ''\n",
    "# 是否上架Shopify賣場: \"TRUE\" 或 \"FALSE\"\n",
    "published = \"TRUE\"\n",
    "# 是否有子類別(尺寸、顏色、材質等等)，通常設為\"無\"\n",
    "o1n = \"Title\"\n",
    "o1v = \"Default Title\"\n",
    "o2n, o2v, o3n, o3v = '', '', '', ''\n",
    "# 重量 Variant Grams\n",
    "vargram = 0\n",
    "# Variant Inventory Tracker, Variant Inventory Qty, Variant Inventory Policy, Variant Fulfillment Service\n",
    "vit, viq, vip, vfs = 'shopify', 1, 'deny', 'manual'\n",
    "# 價格 Variant Price, Variant Compare At Price\n",
    "v_price = 0\n",
    "vcap = 0\n",
    "# 運送 Variant Requires Shipping\n",
    "vrship = 'TRUE'\n",
    "# 稅 Variant Taxable\n",
    "vtax = 'TRUE'\n",
    "# 條碼 Variant Barcode\n",
    "vbar = ''\n",
    "# 圖片地址,順序 Image Src, Image Position, Image Alt Text\n",
    "imgalt = ''\n",
    "# 禮品卡 Gift Card\n",
    "giftcard = 'FALSE'\n",
    "# SEO Title, SEO Description\n",
    "SEOtitle, SEOdis = '', ''\n",
    "# Google Shopping / Google Product Category, Google Shopping / Gender,\n",
    "# Google Shopping / Age Group, Google Shopping / MPN, Google Shopping / Condition,\n",
    "# Google Shopping / Custom Product, Google Shopping / Custom Label 0,\n",
    "# Google Shopping / Custom Label 1, Google Shopping / Custom Label 2,\n",
    "# Google Shopping / Custom Label 3, Google Shopping / Custom Label 4\n",
    "g1, g2 , g3, g4, g5, g6, g7, g8, g9, g10, g11 = '', '', '', '', '', '', '', '', '', '', ''\n",
    "# Variant Image, Variant Weight Unit, Variant Tax Code, Cost per item\n",
    "vimg, vwu, vtc, cpi = '', '', '', ''\n",
    "# Included / 台灣, Price / 台灣, Compare At Price / 台灣, \n",
    "# Included / 國際, Price / 國際, Compare At Price / 國際\n",
    "TWinc, TWp, TWcap, INTinc, INTp, INTcap = 'TRUE', '', '', 'TRUE', '', ''\n",
    "# Status\n",
    "status = 'archived'"
   ]
  },
  {
   "cell_type": "code",
   "execution_count": 19,
   "metadata": {},
   "outputs": [
    {
     "name": "stdout",
     "output_type": "stream",
     "text": [
      "['https://www.jcode.com.tw/products/白沙屯媽祖-發財金-黃金紅包袋-1', 'https://www.jcode.com.tw/products/白沙屯媽祖160週年紀念-黃金墜飾-1', 'https://www.jcode.com.tw/products/白沙屯媽祖-發財金---黃金擺飾--擺件', 'https://www.jcode.com.tw/products/白沙屯-媽祖香火袋-黃金墜子', 'https://www.jcode.com.tw/products/白沙屯-媽祖-黃金墜子', 'https://www.jcode.com.tw/products/白沙屯-粉紅超跑神轎---黃金擺飾--擺件', 'https://www.jcode.com.tw/products/白沙屯-招財獅公母-黃金擺件', 'https://www.jcode.com.tw/products/白沙屯-上上籤---黃金擺飾--擺件', 'https://www.jcode.com.tw/products/白沙屯-媽祖招財古錢-黃金墜子', 'https://www.jcode.com.tw/products/白沙屯-保庇平安媽祖-編織金手鍊', 'https://www.jcode.com.tw/products/白沙屯-媽祖-迷你-編織金手鍊', 'https://www.jcode.com.tw/products/白沙屯-一生好命媽祖-編織金手鍊', 'https://www.jcode.com.tw/products/白沙屯-平安蘋果媽祖-黃金墜子', 'https://www.jcode.com.tw/products/白沙屯-粉紅超跑神轎-迷你-黃金墜子', 'https://www.jcode.com.tw/products/白沙屯-平安蘋果媽祖-編織金手鍊', 'https://www.jcode.com.tw/products/白沙屯-媽祖招財古錢-編織金手鍊', 'https://www.jcode.com.tw/products/白沙屯-娘傘媽祖-黃金墜子', 'https://www.jcode.com.tw/products/白沙屯-旺財媽祖-黃金墜子', 'https://www.jcode.com.tw/products/白沙屯-平安如意-編織金手鍊', 'https://www.jcode.com.tw/products/白沙屯-一生平安-編織金手鍊', 'https://www.jcode.com.tw/products/白沙屯-一生平安媽祖-編織金手鍊', 'https://www.jcode.com.tw/products/白沙屯-貔貅-男／編織金手鍊', 'https://www.jcode.com.tw/products/白沙屯-貔貅-女／編織金手鍊', 'https://www.jcode.com.tw/products/白沙屯-香火袋-編織金手鍊', 'https://www.jcode.com.tw/products/白沙屯-小神衣-黃金墜子', 'https://www.jcode.com.tw/products/白沙屯-小神衣・小-黃金墜子-玫瑰金色鋼項鍊', 'https://www.jcode.com.tw/products/白沙屯-媽祖-迷你-黃金墜子-玫瑰金色鋼項鍊', 'https://www.jcode.com.tw/products/白沙屯-包你勇背包-黃金墜子', 'https://www.jcode.com.tw/products/白沙屯-背負勇氣背心-黃金墜子', 'https://www.jcode.com.tw/products/白沙屯-媽祖繡花鞋-黃金墜子', 'https://www.jcode.com.tw/products/白沙屯-勇往直錢-編織金手鍊', 'https://www.jcode.com.tw/products/白沙屯-小神衣・小-編織金手鍊', 'https://www.jcode.com.tw/products/白沙屯-包管平安錢超多-女／鋼編織手鍊', 'https://www.jcode.com.tw/products/白沙屯-包管平安錢超多-男／鋼編織手鍊', 'https://www.jcode.com.tw/products/白沙屯-一生平安蘋果-編織金手鍊', 'https://www.jcode.com.tw/products/白沙屯-香火袋・小-編織金手鍊', 'https://www.jcode.com.tw/products/白沙屯-勇腳勇健拖鞋-黃金墜子', 'https://www.jcode.com.tw/products/白沙屯-媽祖-迷你-黃金墜子-黃金項鍊', 'https://www.jcode.com.tw/products/白沙屯-香火袋・小-黃金墜子-玫瑰金色鋼項鍊', 'https://www.jcode.com.tw/products/白沙屯-勇往直錢錢超多-男／鋼編織手鍊', 'https://www.jcode.com.tw/products/白沙屯-勇往直錢錢超多-女／鋼編織手鍊', 'https://www.jcode.com.tw/products/白沙屯-香燈腳-黃金墜子', 'https://www.jcode.com.tw/products/白沙屯-媽祖繡花鞋-編織金手鍊', 'https://www.jcode.com.tw/products/白沙屯-勇於帽險-編織金手鍊', 'https://www.jcode.com.tw/products/白沙屯-小神衣・小-黃金墜子-黃金項鍊', 'https://www.jcode.com.tw/products/白沙屯-香火袋・小-黃金墜子-黃金項鍊', 'https://www.jcode.com.tw/products/白沙屯-勇往直錢-黃金墜子-玫瑰金色鋼項鍊', 'https://www.jcode.com.tw/products/白沙屯-招財獅公-黃金擺件', 'https://www.jcode.com.tw/products/白沙屯-招財獅母-黃金擺件', 'https://www.jcode.com.tw/products/白沙屯-媽祖-迷你-黃金手鍊', 'https://www.jcode.com.tw/products/白沙屯-小神衣・小-黃金手鍊', 'https://www.jcode.com.tw/products/白沙屯-勇往直錢-黃金手鍊', 'https://www.jcode.com.tw/products/白沙屯-勇於帽險-黃金墜子-黃金項鍊', 'https://www.jcode.com.tw/products/白沙屯-勇往直錢-黃金墜子-黃金項鍊', 'https://www.jcode.com.tw/products/白沙屯-勇於帽險-黃金墜子-玫瑰金色鋼項鍊', 'https://www.jcode.com.tw/products/白沙屯-香火袋・小-黃金手鍊', 'https://www.jcode.com.tw/products/白沙屯-勇於帽險-黃金手鍊']\n"
     ]
    }
   ],
   "source": [
    "# 自動找出該系列所有商品網址\n",
    "page_num = 1\n",
    "url_list = []\n",
    "\n",
    "while True:\n",
    "    # 自動換頁\n",
    "    if page_num < 10:\n",
    "        URL = URL[:URL.find('page')+5] + str(page_num) + URL[URL.find('page')+6:]\n",
    "    else:\n",
    "        URL = URL[:URL.find('page')+5] + str(page_num) + URL[URL.find('page')+7:]\n",
    "\n",
    "    headers = {\"User-Agent\": \"Mozilla/5.0 (Macintosh; Intel Mac OS X 10_15_7) AppleWebKit/537.36 (KHTML, like Gecko) Chrome/121.0.0.0 Safari/537.36\"}\n",
    "\n",
    "    page = requests.get(URL, headers=headers)\n",
    "\n",
    "    soup1 = BeautifulSoup(page.content, 'html.parser')\n",
    "\n",
    "    soup2 = BeautifulSoup(soup1.prettify(), 'html.parser')\n",
    "    \n",
    "    # 抓出該頁所有產品網址\n",
    "    scrap1 = soup2.find_all(class_=\"Product-item --plp-product-custom-label-rounded-rectangle\")\n",
    "\n",
    "    for i in scrap1:\n",
    "        url_list.append(i.get('href'))\n",
    "\n",
    "    page_num += 1\n",
    "\n",
    "    if scrap1 == []:\n",
    "        break\n",
    "\n",
    "print(url_list)"
   ]
  },
  {
   "cell_type": "code",
   "execution_count": 20,
   "metadata": {},
   "outputs": [],
   "source": [
    "csv_header = ['Handle', 'Title', 'Body (HTML)', 'Vendor', 'Product Category',\n",
    "               'Type', 'Tags', 'Published', 'Option1 Name', 'Option1 Value', \n",
    "               'Option2 Name', 'Option2 Value', 'Option3 Name', 'Option3 Value', \n",
    "               'Variant SKU', 'Variant Grams', 'Variant Inventory Tracker', \n",
    "               'Variant Inventory Qty', 'Variant Inventory Policy',  \n",
    "               'Variant Fulfillment Service', 'Variant Price', \n",
    "               'Variant Compare At Price', 'Variant Requires Shipping', 'Variant Taxable', \n",
    "               'Variant Barcode', 'Image Src', 'Image Position', 'Image Alt Text', \n",
    "               'Gift Card', 'SEO Title', 'SEO Description', \n",
    "               'Google Shopping / Google Product Category', \n",
    "               'Google Shopping / Gender', 'Google Shopping / Age Group', \n",
    "               'Google Shopping / MPN', 'Google Shopping / Condition', \n",
    "               'Google Shopping / Custom Product', 'Google Shopping / Custom Label 0', \n",
    "               'Google Shopping / Custom Label 1', 'Google Shopping / Custom Label 2', \n",
    "               'Google Shopping / Custom Label 3', 'Google Shopping / Custom Label 4',\n",
    "               'Variant Image', 'Variant Weight Unit', 'Variant Tax Code', \n",
    "               'Cost per item', 'Included / 台灣', 'Price / 台灣', 'Compare At Price / 台灣', \n",
    "               'Included / 國際', 'Price / 國際', 'Compare At Price / 國際', 'Status']\n",
    "df = pd.DataFrame(columns=csv_header)"
   ]
  },
  {
   "cell_type": "code",
   "execution_count": 21,
   "metadata": {},
   "outputs": [
    {
     "data": {
      "application/vnd.jupyter.widget-view+json": {
       "model_id": "4f32a8992c8c4fe59191e7f52eabdd73",
       "version_major": 2,
       "version_minor": 0
      },
      "text/plain": [
       "  0%|          | 0/57 [00:00<?, ?it/s]"
      ]
     },
     "metadata": {},
     "output_type": "display_data"
    }
   ],
   "source": [
    "# 將所有網址的商品資料抓齊\n",
    "for url in tqdm(url_list):\n",
    "    \n",
    "    headers = {\"User-Agent\": \"Mozilla/5.0 (Macintosh; Intel Mac OS X 10_15_7) AppleWebKit/537.36 (KHTML, like Gecko) Chrome/121.0.0.0 Safari/537.36\"}\n",
    "\n",
    "    page = requests.get(url, headers=headers)\n",
    "\n",
    "    soup1 = BeautifulSoup(page.content, 'html.parser')\n",
    "\n",
    "    soup2 = BeautifulSoup(soup1.prettify(), 'html.parser')\n",
    "\n",
    "    # 抓取需要的商品的文字資訊\n",
    "    title = soup2.find(class_='Product-title').text.strip()\n",
    "\n",
    "    title = title.replace(\"/\", \"_\")\n",
    "\n",
    "    description = soup2.find(class_='Product-summary Product-summary-block').text.strip()\n",
    "\n",
    "    # 自動歸類\"Product Category\"\n",
    "    prod_cat = \"\"\n",
    "    if '手鍊' in title:\n",
    "        prod_cat = \"Apparel & Accessories > Jewelry > Bracelets\"\n",
    "    if '戒指' in title:\n",
    "        prod_cat = \"Apparel & Accessories > Jewelry > Rings\"\n",
    "    if '項鍊' in title:\n",
    "        prod_cat = \"Apparel & Accessories > Jewelry > Necklaces\"\n",
    "    if '耳環' in title:\n",
    "        prod_cat = \"Apparel & Accessories > Jewelry > Earrings\"\n",
    "    if '墜飾' in title  or '墜子' in title :\n",
    "        prod_cat = \"Apparel & Accessories > Jewelry > Charms & Pendants\"\n",
    "    if '擺件' in title or '擺飾' in title or '禮盒' in title:\n",
    "        prod_cat = \"Apparel & Accessories > Jewelry > Jewelry Sets\"\n",
    "\n",
    "    # 自動歸類“Tags”\n",
    "    tag = []\n",
    "    if '金' in title:\n",
    "        tag.append('黃金')\n",
    "    if '銀' in title:\n",
    "        tag.append('銀')\n",
    "    if '手鍊' in title:\n",
    "        tag.append('手鍊')\n",
    "    if '戒指' in title:\n",
    "        tag.append('戒指')\n",
    "    if '項鍊' in title:\n",
    "        tag.append('項鍊')\n",
    "    if '耳環' in title:\n",
    "        tag.append('耳環')\n",
    "    if '墜飾' in title  or '墜子' in title :\n",
    "        tag.append('墜子')\n",
    "    if '擺件' in title or '擺飾' in title or '禮盒' in title:\n",
    "        tag.append('擺件')\n",
    "    tag = \", \".join(tag)\n",
    "\n",
    "    # 抓取商品圖片網址\n",
    "    image = soup2.find(type='application/ld+json').text.strip()\n",
    "\n",
    "    #image = image.replace(\"'\", \"\\\"\")\n",
    "\n",
    "    image = json.loads(image)['image']\n",
    "\n",
    "    # 將資料寫入表格中\n",
    "    data = []\n",
    "    for index, url in enumerate(image):\n",
    "        if index == 0:\n",
    "            data = [[title, title, description, vendor, prod_cat, type, tag, published, o1n, o1v, \n",
    "                o2n, o2v, o3n, o3v, sku, vargram, vit, viq, vip, vfs, v_price, vcap, vrship, vtax, \n",
    "                vbar, url, index+1, imgalt, giftcard, SEOtitle, SEOdis, g1 , g2, g3, g4, g5, \n",
    "                g6, g7, g8, g9, g10, g11, vimg, vwu, vtc, cpi, TWinc, TWp, TWcap, INTinc, INTp, \n",
    "                INTcap, status]]\n",
    "        else:\n",
    "            data.append([title, '', '', '', '', '', '', '', '', '', '', '', '', '', '', '', '', '',\n",
    "                        '', '', '', '', '', '', '', url, index+1, '', '', '', '', '', '', '', '', \n",
    "                        '', '', '', '', '', '', '', '', '', '', '', '', '', '', '', '', '', ''])\n",
    "    \n",
    "    new_df = pd.DataFrame(data, columns=csv_header)\n",
    "    df = pd.concat([df, new_df], ignore_index=True)\n",
    "\n",
    "    # 設置延遲時間\n",
    "    time.sleep(0.3)\n",
    "\n",
    "with open(filename, 'w', newline='', encoding='UTF8') as file:\n",
    "    df.to_csv(file, index=False)"
   ]
  },
  {
   "cell_type": "code",
   "execution_count": 22,
   "metadata": {},
   "outputs": [
    {
     "name": "stdout",
     "output_type": "stream",
     "text": [
      "57 194\n"
     ]
    }
   ],
   "source": [
    "# 商品數量、圖片總量\n",
    "print(len(df['Title'].unique())-1, len(df['Handle']))"
   ]
  },
  {
   "cell_type": "code",
   "execution_count": null,
   "metadata": {},
   "outputs": [],
   "source": []
  }
 ],
 "metadata": {
  "kernelspec": {
   "display_name": "Python 3",
   "language": "python",
   "name": "python3"
  },
  "language_info": {
   "codemirror_mode": {
    "name": "ipython",
    "version": 3
   },
   "file_extension": ".py",
   "mimetype": "text/x-python",
   "name": "python",
   "nbconvert_exporter": "python",
   "pygments_lexer": "ipython3",
   "version": "3.9.6"
  }
 },
 "nbformat": 4,
 "nbformat_minor": 2
}
